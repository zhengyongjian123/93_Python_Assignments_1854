{
 "cells": [
  {
   "cell_type": "markdown",
   "metadata": {},
   "source": [
    "    JLUFE                                                     Spring 2021 (Feb-July) \n",
    "\n",
    "                             Final Assignment Report        \n",
    "                                 \n",
    "                          \n",
    "                     JILIN UNIVERSITY OF FINANCE AND ECONOMICS  \n",
    "\n",
    "      Department of College of Managment Science and Information Engineering\n",
    "           \n",
    "                    BSc in Data Science and Big Data TechnologyInformation management and information system\n",
    "                                  \n",
    "                                     (2021)\n",
    "                                          \n",
    "                              \n",
    "                                   \n",
    "                            Final Assignment: Part 01\n",
    "                                          \n",
    "                                   21/06/2021\n",
    "                                      \n",
    "                              MODULE: Data Mining \n",
    "                               \n",
    "                  Submitted by: Jony(郑永健) 0314021805410 (1854)\n",
    "                                 QQ: 2464304928 \n",
    "                               Github ID: zhengyongjian123"
   ]
  },
  {
   "cell_type": "markdown",
   "metadata": {},
   "source": [
    "# Instructions:\n",
    "\n",
    "1. I have added tips and required learning resources for each question, which helps you to solve the exercise. \n",
    "\n",
    "2. Finish the assignment on your **OWN** (**Any student find copying/sharing from classmates or internet will get '0' points!!!**)\n",
    "\n",
    "3. **Accept this assignment** from the **[Github Clasroom link](https://classroom.github.com/a/yFXO50A4)** This will create private repository of the assignment in your Github account.\n",
    "\n",
    "4. In your repository **`Clone`** -> **`Download ZIP`** in your computer.\n",
    "\n",
    "5. Change your: **Major**, **Name**, **Student number**, **Class number**, **QQ number** and **GitHub ID**\n",
    "\n",
    "6. Once you finish the Assignment **[convert your .ipynb file into PDF](https://github.com/milaan9/91_Python_Tips/blob/main/000_Convert_Jupyter_Notebook_to_PDF.ipynb)** (both .pynb and .pdf file will be required!)\n",
    "\n",
    "7. Create Folder name \"**Solution**\" and copy your 3 files:\n",
    "    1. Your Jupyter Notebook file (**.ipynb**).\n",
    "    2. Your PDF converted file (**.pdf**).\n",
    "    3. **.zip** file containing both .ipynb and .pdf files and name your .zip file as your student number and name. For example: **0318021907632 Milan(米兰).zip**\n",
    "    \n",
    "8. Finally, in your repository **`Add files`** -> **`upload files`** upload the \"**Solution**\" folder and **`Commit changes`**."
   ]
  },
  {
   "cell_type": "markdown",
   "metadata": {},
   "source": [
    "# Python Assignment 01"
   ]
  },
  {
   "cell_type": "markdown",
   "metadata": {},
   "source": [
    "### Question 1: \n",
    "\n",
    "Write a python program that generates a list containing only common elements between the two lists (without duplicates). Make sure your program works on two lists of different sizes.\n",
    "\n",
    "Expected Output:\n",
    "```\n",
    "List 1: [0, 2, 4, 6, 12, 13, 14, 18, 20, 24, 25, 26, 27]\n",
    "List 2: [0, 4, 7, 9, 10, 11, 13, 14, 17, 18, 20, 33, 39]\n",
    "List of common elements are:  [0, 4, 13, 14, 18, 20]\n",
    "```\n",
    "\n",
    "For extra points:\n",
    "1. Generate the two list randomly to test this\n",
    "2. Generate each list in one line of Python."
   ]
  },
  {
   "cell_type": "code",
   "execution_count": 1,
   "metadata": {},
   "outputs": [
    {
     "name": "stdout",
     "output_type": "stream",
     "text": [
      "List 1:  [2, 3, 6, 11, 12, 14, 15, 20, 24, 25, 34, 36, 41, 47, 48]\n",
      "List 2:  [12, 13, 15, 16, 19, 22, 26, 28, 30, 39, 42, 46, 49]\n",
      "List of common elements are:  [12, 15]\n"
     ]
    }
   ],
   "source": [
    "# Solution 1: \n",
    "import random\n",
    "list1=random.sample(range(1,50),15)\n",
    "list2=random.sample(range(1,50),13)\n",
    "same1=[]\n",
    "for i in range(15):\n",
    "    for j in range(13):\n",
    "        if list1[i]==list2[j]:\n",
    "            same1.append(list1[i])\n",
    "list1.sort()\n",
    "list2.sort()\n",
    "same1.sort()\n",
    "print('List 1: ',list1)\n",
    "print('List 2: ',list2)\n",
    "print('List of common elements are: ',same1)"
   ]
  },
  {
   "cell_type": "markdown",
   "metadata": {},
   "source": [
    "### Question 2: \n",
    "\n",
    "Write a python program to find the gravitational force acting between two objects.\n",
    "\n",
    "\\begin{equation*}\n",
    "F=G\\frac{{m_1}{m_2}}{{r^2}}\n",
    "\\end{equation*}\n",
    "\n",
    "Expected Output:\n",
    "```\n",
    "Enter the first mass (m1): 5000000\n",
    "Enter the second mass (m2): 900000\n",
    "Enter the distance between the centres of the masses (N): 30\n",
    "Hence, the Gravitational Force is:  0.33 N\n",
    "```"
   ]
  },
  {
   "cell_type": "code",
   "execution_count": 2,
   "metadata": {},
   "outputs": [
    {
     "name": "stdout",
     "output_type": "stream",
     "text": [
      "Enter the first mass (m1):5000000\n",
      "Enter the second mass (m2):900000\n",
      "Enter the distance between the centres of the masses (N):30\n",
      "Hence, the Gravitational Force is: 0.33N\n"
     ]
    }
   ],
   "source": [
    "# Solution 2: \n",
    "import math\n",
    "m1=input('Enter the first mass (m1):')\n",
    "m2=input('Enter the second mass (m2):')\n",
    "N=input('Enter the distance between the centres of the masses (N):')\n",
    "G=6.67e-11\n",
    "outputt=G*int(m1)*int(m2)/int(N)/int(N)\n",
    "print('Hence, the Gravitational Force is: {:.2f}N'.format(outputt))\n"
   ]
  },
  {
   "cell_type": "markdown",
   "metadata": {},
   "source": [
    "### Question 3: \n",
    "\n",
    "Write a python program that generates a new list that contains only even elements from the randomly generated list.\n",
    "\n",
    "Expected Output:\n",
    "```\n",
    "Randomly generated list: [64, 63, 90, 13, 38, 27, 19, 51, 97, 32, 18, 75]\n",
    "List of even elements: [64, 90, 38, 32, 18]\n",
    "```"
   ]
  },
  {
   "cell_type": "code",
   "execution_count": 3,
   "metadata": {},
   "outputs": [
    {
     "name": "stdout",
     "output_type": "stream",
     "text": [
      "Randomly generated list:  [39, 85, 16, 69, 27, 48, 55, 36, 40, 22, 1, 13, 23, 28, 49]\n",
      "List of even elements:  [16, 48, 36, 40, 22, 28]\n"
     ]
    }
   ],
   "source": [
    "# Solution 3: \n",
    "import random\n",
    "randlist3=random.sample(range(1,100),15)\n",
    "outlist3=[]\n",
    "for item3 in randlist3:\n",
    "    if item3%2==0:\n",
    "        outlist3.append(item3)\n",
    "print('Randomly generated list: ',randlist3)\n",
    "print('List of even elements: ',outlist3)\n"
   ]
  },
  {
   "cell_type": "markdown",
   "metadata": {},
   "source": [
    "### Question 4: \n",
    "\n",
    "Write a python program to check if a substring is present in a given string.\n",
    "\n",
    "Expected Output:\n",
    "```\n",
    "Enter string: Hello world\n",
    "Enter word: world\n",
    "Substring in string!\n",
    "```"
   ]
  },
  {
   "cell_type": "code",
   "execution_count": 4,
   "metadata": {},
   "outputs": [
    {
     "name": "stdout",
     "output_type": "stream",
     "text": [
      "Enter string: Hello world\n",
      "Enter word: world\n",
      "Substring in string!\n"
     ]
    }
   ],
   "source": [
    "# Solution 4: \n",
    "str41=input('Enter string: ')\n",
    "str42=input('Enter word: ')\n",
    "if str42 in str41:\n",
    "    print('Substring in string!')\n",
    "else:\n",
    "    print('Substring not in string!')"
   ]
  },
  {
   "cell_type": "markdown",
   "metadata": {},
   "source": [
    "### Question 5: \n",
    "\n",
    "Write a python program that asks the user last 2 digit of (your) student number and generates Fibonacci series.\n",
    "\n",
    "Expected Output:\n",
    "```\n",
    "How many numbers that generates?: 12\n",
    "Fibonacci series:\n",
    " [1, 1, 2, 3, 5, 8, 13, 21, 34, 55, 89, 144]\n",
    "```"
   ]
  },
  {
   "cell_type": "code",
   "execution_count": 5,
   "metadata": {},
   "outputs": [
    {
     "name": "stdout",
     "output_type": "stream",
     "text": [
      "How many numbers that generates?: 12\n",
      "Fibonacci series:\n",
      "1 , 1 , 2 , 3 , 5 , 8 , 13 , 21 , 34 , 55 , 89 , 144 , "
     ]
    }
   ],
   "source": [
    "# Solution 5: \n",
    "studennum=123457812\n",
    "ddd=studennum%100\n",
    "print('How many numbers that generates?:',ddd)\n",
    "n1 = 1\n",
    "n2 = 1\n",
    "count = 2\n",
    "nterms=ddd\n",
    "print('Fibonacci series:')\n",
    "if nterms <= 0:\n",
    "   print(\"error:00\")\n",
    "elif nterms == 1:\n",
    "   print(n1)\n",
    "else:\n",
    "   print(n1,\",\",n2,end=\" , \")\n",
    "   while count < nterms:\n",
    "       nth = n1 + n2\n",
    "       print(nth,end=\" , \")\n",
    "       n1 = n2\n",
    "       n2 = nth\n",
    "       count += 1\n"
   ]
  },
  {
   "cell_type": "markdown",
   "metadata": {},
   "source": [
    "### Question 6: \n",
    "\n",
    "Write a python program using function that generates a new list that contains all the elements of the first list and removing all the duplicates.\n",
    "\n",
    "Expected Output:\n",
    "```\n",
    "List:  [1, 2, 3, 4, 3, 2, 1]\n",
    "Result List using loop:  [1, 2, 3, 4]\n",
    "Result List using sets:  [1, 2, 3, 4]\n",
    "```\n",
    "\n",
    "For extra points:\n",
    "1. Generate the result using two different functions using:\n",
    "    - one using a loop and constructing a list\n",
    "    - sets"
   ]
  },
  {
   "cell_type": "code",
   "execution_count": 6,
   "metadata": {},
   "outputs": [
    {
     "name": "stdout",
     "output_type": "stream",
     "text": [
      "List:  [1, 2, 3, 4, 5, 6, 7, 8, 7, 6, 5, 4]\n",
      "Result List using loop:   [1, 2, 3, 4, 5, 6, 7, 8]\n",
      "Result List using sets:   {1, 2, 3, 4, 5, 6, 7, 8}\n"
     ]
    }
   ],
   "source": [
    "# Solution 6: \n",
    "list6=[1,2,3,4,5,6,7,8,7,6,5,4]\n",
    "list61=[]\n",
    "set6=set(list6)\n",
    "for item6 in list6:\n",
    "    if item6 not in list61:\n",
    "        list61.append(item6)\n",
    "print('List: ',list6)\n",
    "print('Result List using loop:  ',list61)\n",
    "print('Result List using sets:  ',set6)\n"
   ]
  },
  {
   "cell_type": "markdown",
   "metadata": {},
   "source": [
    "### Question 7: \n",
    "\n",
    "Write a python program using functions that asks the user for a string containing multiple words and print back to the user the same string, except with the words in reverse order.\n",
    "\n",
    "Expected Output:\n",
    "```\n",
    "Please enter a sentence: My name is Milaan\n",
    "The reverse sentence is: Milaan is name My\n",
    "```"
   ]
  },
  {
   "cell_type": "code",
   "execution_count": 7,
   "metadata": {},
   "outputs": [
    {
     "name": "stdout",
     "output_type": "stream",
     "text": [
      "Please enter a sentence: My name is Milaan\n",
      "The reverse sentence is: Milaan is name My\n"
     ]
    }
   ],
   "source": [
    "# Solution 7: \n",
    "sen = input('Please enter a sentence: ').split()\n",
    "print('The reverse sentence is:',' '.join(sen[::-1]))\n"
   ]
  },
  {
   "cell_type": "markdown",
   "metadata": {},
   "source": [
    "### Question 8: \n",
    "\n",
    "Write a python program using function that encrypts a given input with these steps:\n",
    "\n",
    "Input: \"apple\"\n",
    "\n",
    "* Step 1: Reverse the input: \"elppa\"\n",
    "* Step 2: Replace all vowels using the following chart:\n",
    "\n",
    "```python\n",
    "a => 0\n",
    "e => 1\n",
    "i => 2\n",
    "o => 2\n",
    "u => 3\n",
    "# 1lpp0\n",
    "```\n",
    "\n",
    "* Step 3: Add \"aca\" to the end of the word: \"1lpp0aca\"\n",
    "\n",
    "Expected Output:\n",
    "```\n",
    "Word:  apple\n",
    "Encrypted word: 1lpp0aca\n",
    "```\n",
    "\n",
    "More Examples:\n",
    "```\n",
    "encrypt(\"banana\") ➞ \"0n0n0baca\"\n",
    "encrypt(\"karaca\") ➞ \"0c0r0kaca\"\n",
    "encrypt(\"burak\") ➞ \"k0r3baca\"\n",
    "encrypt(\"alpaca\") ➞ \"0c0pl0aca\"\n",
    "```"
   ]
  },
  {
   "cell_type": "code",
   "execution_count": 8,
   "metadata": {},
   "outputs": [
    {
     "name": "stdout",
     "output_type": "stream",
     "text": [
      "Word:  apple\n",
      "Encrypted word:  0ppl1aca\n"
     ]
    }
   ],
   "source": [
    "# Solution 8: \n",
    "word8=input('Word:  ')\n",
    "word8=word8.replace('a','0')\n",
    "word8=word8.replace('e','1')\n",
    "word8=word8.replace('i','2')\n",
    "word8=word8.replace('o','2')\n",
    "word8=word8.replace('u','3')\n",
    "word8=word8+'aca'\n",
    "print('Encrypted word: ',word8)"
   ]
  },
  {
   "cell_type": "markdown",
   "metadata": {},
   "source": [
    "### Question 9: \n",
    "\n",
    "Write a python program using function that takes a number num and returns its length.\n",
    "\n",
    "Expected Output:\n",
    "```\n",
    "Enter number: 963969\n",
    "Total digits in given number:  6\n",
    "```"
   ]
  },
  {
   "cell_type": "code",
   "execution_count": 9,
   "metadata": {},
   "outputs": [
    {
     "name": "stdout",
     "output_type": "stream",
     "text": [
      "Enter number:963969\n",
      "Total digits in given number:  6\n"
     ]
    }
   ],
   "source": [
    "# Solution 9: \n",
    "num9=input('Enter number:')\n",
    "print('Total digits in given number: ',len(str(num9)))\n"
   ]
  },
  {
   "cell_type": "markdown",
   "metadata": {},
   "source": [
    "### Question 10: \n",
    "\n",
    "Write a python program using function that takes a string and returns the number (count) of vowels contained within it.\n",
    "\n",
    "Expected Output:\n",
    "```\n",
    "Enter string: Celebration\n",
    "Total vowels in the string: 5\n",
    "Identified vowels are:  ['e', 'e', 'a', 'i', 'o']\n",
    "```\n",
    "\n",
    "More examples:\n",
    "```\n",
    "count_vowels(\"Palm\") ➞ 1\n",
    "count_vowels(\"Prediction\") ➞ 4\n",
    "```"
   ]
  },
  {
   "cell_type": "code",
   "execution_count": 11,
   "metadata": {},
   "outputs": [
    {
     "name": "stdout",
     "output_type": "stream",
     "text": [
      "Enter string: Celebration\n",
      "Total vowels in the string:  5\n",
      "Identified vowels are:   ['e', 'e', 'a', 'i', 'o']\n"
     ]
    }
   ],
   "source": [
    "# Solution 10: \n",
    "dict10={'a':0,'e':0,'i':0,'o':0,'u':0}\n",
    "vowels=[]\n",
    "str10=input('Enter string: ')\n",
    "for i in range(len(str10)):\n",
    "    if str10[i] in dict10.keys():\n",
    "        vowels.append(str10[i])\n",
    "        dict10[str10[i]]+=1\n",
    "print('Total vowels in the string: ',sum(dict10.values()))\n",
    "print('Identified vowels are:  ',vowels)\n",
    "\n",
    "\n"
   ]
  },
  {
   "cell_type": "markdown",
   "metadata": {},
   "source": [
    "### Question 11:\n",
    "\n",
    "Write a python program to draw pattern as below:\n",
    "\n",
    "Expected Output:\n",
    "```\n",
    "--- --- --- \n",
    "|   |   |   |\n",
    " --- --- --- \n",
    "|   |   |   |\n",
    " --- --- --- \n",
    "|   |   |   |\n",
    " --- --- --- \n",
    "```\n",
    "\n",
    "For extra point:\n",
    "1. Generate solution by asking the user what size game board they want to draw, and draw it for them to the screen using Python’s print statement.\n",
    "\n",
    "Expected Output:\n",
    "```\n",
    "Enter the size of board you want to draw: 4\n",
    " --- --- --- ---\n",
    "|   |   |   |   |   \n",
    " --- --- --- ---\n",
    "|   |   |   |   |   \n",
    " --- --- --- ---\n",
    "|   |   |   |   |   \n",
    " --- --- --- ---\n",
    "|   |   |   |   |   \n",
    " --- --- --- ---\n",
    "```"
   ]
  },
  {
   "cell_type": "code",
   "execution_count": 12,
   "metadata": {},
   "outputs": [
    {
     "name": "stdout",
     "output_type": "stream",
     "text": [
      "Enter the size of board you want to draw:6\n",
      " --- --- --- --- --- ---\n",
      "|   |   |   |   |   |   |   \n",
      " --- --- --- --- --- ---\n",
      "|   |   |   |   |   |   |   \n",
      " --- --- --- --- --- ---\n",
      "|   |   |   |   |   |   |   \n",
      " --- --- --- --- --- ---\n",
      "|   |   |   |   |   |   |   \n",
      " --- --- --- --- --- ---\n",
      "|   |   |   |   |   |   |   \n",
      " --- --- --- --- --- ---\n",
      "|   |   |   |   |   |   |   \n",
      " --- --- --- --- --- ---\n"
     ]
    }
   ],
   "source": [
    "# Solution 11: \n",
    "n11=input('Enter the size of board you want to draw:')\n",
    "n11=int(n11)\n",
    "for i in range(2*n11+1):\n",
    "    if i%2==0:\n",
    "        for j in range(n11):\n",
    "            print(' ---',end='')\n",
    "            if j==n11-1:\n",
    "                print('')\n",
    "    else:\n",
    "        for j in range(n11+1):\n",
    "            print('|   ',end='')\n",
    "            if j==n11:\n",
    "                print('')"
   ]
  },
  {
   "cell_type": "markdown",
   "metadata": {},
   "source": [
    "### Question 12: \n",
    "\n",
    "Write a python program to ask user for a string and then perform following operations:\n",
    "1. Calculate the num of digits \n",
    "2. Calculate the num of characters \n",
    "3. Calculate the num of vowels\n",
    "4. Calculate the num of lowercase letters\n",
    "5. replace ' ' with '_' in the string\n",
    "6. Print and Store the ouput to 'output.txt' file.\n",
    "\n",
    "Expected Output:\n",
    "```\n",
    "Enter string: Hello World 123\n",
    "Output printed in'output.txt'\n",
    "```\n",
    "\n",
    "Expected Output in output.txt:\n",
    "```\n",
    "The entered string is: Hello World 123\n",
    "The number of digits is: 3\n",
    "The number of characters is: 15\n",
    "The number of vowels is: 3\n",
    "The number of lowercase letters is: 8\n",
    "The modified string is: Hello_World_123\n",
    "```"
   ]
  },
  {
   "cell_type": "code",
   "execution_count": 13,
   "metadata": {},
   "outputs": [
    {
     "name": "stdout",
     "output_type": "stream",
     "text": [
      "Enter string: Hello World 123\n",
      "Output printed in'output.txt'\n"
     ]
    }
   ],
   "source": [
    "# Solution 12: \n",
    "f = open('output.txt','w')\n",
    "str12=input('Enter string: ')\n",
    "kgs12=0\n",
    "vo12=0\n",
    "vo='aeiou'\n",
    "xx12=0\n",
    "xx='qwertyuiopasdfghjklzxcvbnm'\n",
    "for i in range(len(str12)):\n",
    "    if str12[i]==' ':\n",
    "        kgs12+=1\n",
    "    if str12[i] in vo:\n",
    "        vo12+=1\n",
    "    if str12[i] in xx:\n",
    "        xx12+=1\n",
    "str121=str12.replace(' ','_')\n",
    "log12='The entered string is:'+str12+'The number of digits is: '+str(kgs12+1)+'\\n'+'The number of characters is: '+str(len(str12))+'\\n'+'The number of vowels is:'+str(vo12)+'\\n'\n",
    "log12=log12+'The number of lowercase letters is: '+str(xx12)+'\\n'+'The modified string is: '+str121\n",
    "f.write(log12)\n",
    "f.close()\n",
    "print('Output printed in\\'output.txt\\'')\n"
   ]
  },
  {
   "cell_type": "markdown",
   "metadata": {},
   "source": [
    "### Question 13: \n",
    "\n",
    "Write a python program using function that takes as input three variables from user, and returns the largest of the three. Do this without using the Python **`max()`** function!\n",
    "\n",
    "Expected Output:\n",
    "```\n",
    "Please enter three integers separated by comma: 12, 66, 31\n",
    "The maximum value is: 66 \n",
    "```"
   ]
  },
  {
   "cell_type": "code",
   "execution_count": 14,
   "metadata": {},
   "outputs": [
    {
     "name": "stdout",
     "output_type": "stream",
     "text": [
      "Please enter three integers separated by comma:12,66,31\n",
      "The maximum value is: 66\n"
     ]
    }
   ],
   "source": [
    "# Solution 13: \n",
    "print('Please enter three integers separated by comma:',end='')\n",
    "a13,b13,c13=map(int,input().split(','))\n",
    "max13=a13\n",
    "if b13>max13:\n",
    "    max13=b13\n",
    "if c13>max13:\n",
    "    max13=c13\n",
    "print('The maximum value is:',max13)"
   ]
  },
  {
   "cell_type": "markdown",
   "metadata": {},
   "source": [
    "### Question 14: \n",
    "\n",
    "Write a python program where user, will have a number in head between 0 and 100. The program will guess a number, and you, the user, will say whether it is too \"high\", too \"low\", or your number. Also, in the end program should print out how many guesses it took to get your number.\n",
    "\n",
    "Expected Output:\n",
    "```\n",
    "Guess a number between 0 and 100 and tell whether high or low when prompted!\n",
    "My guess is 50. Is that high, low or same? low\n",
    "My guess is 75. Is that high, low or same? low\n",
    "My guess is 88. Is that high, low or same? low\n",
    "My guess is 94. Is that high, low or same? low\n",
    "My guess is 97. Is that high, low or same? low\n",
    "My guess is 99. Is that high, low or same? same\n",
    "Congrats to me! I guessed it in 6 tries.\n",
    "```"
   ]
  },
  {
   "cell_type": "code",
   "execution_count": 15,
   "metadata": {},
   "outputs": [
    {
     "name": "stdout",
     "output_type": "stream",
     "text": [
      "Guess a number between 0 and 100 and tell whether high or low when prompted!\n",
      "My guess is 82. Is that high, low or same? high\n",
      "My guess is 64. Is that high, low or same? low\n",
      "My guess is 66. Is that high, low or same? low\n",
      "My guess is 81. Is that high, low or same? high\n",
      "My guess is 70. Is that high, low or same? same\n",
      "Congrats to me! I guessed it in 5 tries.\n"
     ]
    }
   ],
   "source": [
    "# Solution 14: \n",
    "import random\n",
    "print('Guess a number between 0 and 100 and tell whether high or low when prompted!')\n",
    "min14=0\n",
    "max14=100\n",
    "count14=0\n",
    "ans=''\n",
    "while ans!='same':\n",
    "    guess=random.randint(min14,max14)\n",
    "    count14+=1\n",
    "    ans=input('My guess is {}. Is that high, low or same? '.format(guess))\n",
    "    if ans=='same':\n",
    "        print('Congrats to me! I guessed it in {} tries.'.format(count14))\n",
    "    elif ans=='low':\n",
    "        min14=guess\n",
    "    elif ans=='high':\n",
    "        max14=guess"
   ]
  },
  {
   "cell_type": "markdown",
   "metadata": {},
   "source": [
    "### Question 15: \n",
    "\n",
    "Write a python program using function that takes an list(ordered) of numbers (from smallest to largest) and another number. The function decides whether or not the given number is inside the list and returns (then prints) an appropriate boolean.\n",
    "\n",
    ">Hint: Use binary search.\n",
    "\n",
    "Expected Output:\n",
    "```\n",
    "List:  [2, 4, 6, 8, 10]\n",
    "Find  '5': False\n",
    "Find '10': True\n",
    "Find '-1': False\n",
    "Find  '2': True\n",
    "```\n",
    "\n",
    "For extra point:\n",
    "1. Generate list randomly and select he number randomly to be search from the list."
   ]
  },
  {
   "cell_type": "code",
   "execution_count": 16,
   "metadata": {},
   "outputs": [
    {
     "name": "stdout",
     "output_type": "stream",
     "text": [
      "List:   [1, 2, 3, 4, 5, 6, 7, 8, 11, 12, 14, 15, 16, 17, 18]\n",
      "Find  '5':  True\n",
      "Find  '10':  False\n",
      "Find  '-1':  False\n",
      "Find  '2':  True\n"
     ]
    }
   ],
   "source": [
    "# Solution 15: \n",
    "import random\n",
    "def bs (list15, l, r, x): \n",
    "    if r >= l: \n",
    "        mid = int(l + (r - l)/2)\n",
    "        if list15[mid] == x: \n",
    "            return mid \n",
    "        elif list15[mid] > x: \n",
    "            return bs(list15, l, mid-1, x) \n",
    "        else: \n",
    "            return bs(list15, mid+1, r, x) \n",
    "    else: \n",
    "        return -1\n",
    "list15=random.sample(range(1,20),15)\n",
    "list15.sort()\n",
    "print('List:  ',list15)\n",
    "def find(list15,x):\n",
    "    result = bs(list15, 0, len(list15)-1, x)\n",
    "    if result==-1:\n",
    "        print('Find  \\'{}\\': '.format(x),'False')\n",
    "    else:\n",
    "        print('Find  \\'{}\\': '.format(x),'True')\n",
    "find(list15,5)\n",
    "find(list15,10)\n",
    "find(list15,-1)\n",
    "find(list15,2)"
   ]
  },
  {
   "cell_type": "markdown",
   "metadata": {},
   "source": [
    "### Question 16: \n",
    "\n",
    "Write a python program to generate password. Be creative with how you generate passwords - strong passwords have a mix of lowercase letters, uppercase letters, numbers, and symbols. The passwords should be random, generating a new password every time the user asks for a new password. Include your code in a main method.\n",
    "\n",
    "Expected Output:\n",
    "```\n",
    "Please choose strong or weak:\n",
    "strong\n",
    "password: 6|Av.0T^9\n",
    "do you want a new password? y/n\n",
    "n\n",
    "```\n",
    "\n",
    "For extra points:\n",
    "1. Ask the user if they want password to be strong(9 characters) or weak(6 characters)?"
   ]
  },
  {
   "cell_type": "code",
   "execution_count": 17,
   "metadata": {},
   "outputs": [
    {
     "name": "stdout",
     "output_type": "stream",
     "text": [
      "Please choose strong or weak:strong\n",
      "u%KEP41sU\n",
      "do you want a new password? y/n\n",
      "y\n",
      "Please choose strong or weak:weak\n",
      "qRN%Qc\n",
      "do you want a new password? y/n\n",
      "n\n"
     ]
    }
   ],
   "source": [
    "# Solution 16: \n",
    "import random\n",
    "\n",
    "def main():\n",
    "    def password(length):\n",
    "        pw = ''\n",
    "        characters = \"ABCDEFGHIJKLMNOPQRSTUVWXYZ\" +\"abcdefghijklmnopqrstuvwxyz\" \"1234567890\"+\"!@#$%^&*,.\"\n",
    "        for i in range(length):\n",
    "            pw = pw +  random.choice(characters)\n",
    "        return pw\n",
    "    con='y'\n",
    "    while(con=='y'):\n",
    "        str = input(\"Please choose strong or weak:\")\n",
    "        if(str=='strong'):\n",
    "            while True:\n",
    "                p=password(9)\n",
    "                if ((set(list(p)).intersection(set(list(\"ABCDEFGHIJKLMNOPQRSTUVWXYZ\")))!=None) and\n",
    "                (set(list(p)).intersection(set(list(\"abcdefghijklmnopqrstuvwxyz\")))!=None)and\n",
    "                (set(list(p)).intersection(set(list(\"1234567890\")))!=None)and\n",
    "                (set(list(p)).intersection(set(list(\"!@#$%^&*,.\")))!=None)):\n",
    "                    break\n",
    "        else:\n",
    "             p=password(6)\n",
    "        print(p)\n",
    "        print(\"do you want a new password? y/n\")\n",
    "        con=input()\n",
    "main()\n"
   ]
  },
  {
   "cell_type": "markdown",
   "metadata": {},
   "source": [
    "### Question 17: \n",
    "\n",
    "Write a python program using function that picks a random word from a list of words from the **[dictionary](https://github.com/milaan9/92_Python_Assignments/blob/main/sowpods.txt)**. Each line in the file contains a single word.\n",
    "\n",
    ">Hint: use the Python random library for picking a random word.\n",
    "\n",
    "Expected Output:\n",
    "```\n",
    "Random word: POTENTIATING\n",
    "```"
   ]
  },
  {
   "cell_type": "code",
   "execution_count": 18,
   "metadata": {},
   "outputs": [
    {
     "name": "stdout",
     "output_type": "stream",
     "text": [
      "Random word:ABACS\n"
     ]
    }
   ],
   "source": [
    "# Solution 17: \n",
    "import random \n",
    "import linecache\n",
    "def getword():\n",
    "    count1 = len(open('sowpods.txt','r').readlines())\n",
    "    hs = random.randrange(1,count1,1)\n",
    "    word=linecache.getline('sowpods.txt',hs)\n",
    "    word=word.strip('\\n')\n",
    "    return word\n",
    "word=getword()\n",
    "print(\"Random word:\"+ word)\n",
    "\n"
   ]
  },
  {
   "cell_type": "markdown",
   "metadata": {},
   "source": [
    "### Question 18: \n",
    "\n",
    "Write a python program where a text(.txt) file is given **[nameslist.txt](https://github.com/milaan9/92_Python_Assignments/blob/main/nameslist.txt)** that contains list of a bunch of names, count how many of each name there are in the file, and print out the results to the screen. \n",
    "\n",
    "Expected Output:\n",
    "```\n",
    "{'Darth': 31, 'Luke': 15, 'Leia': 54}\n",
    "```\n",
    "\n",
    "For extra point:\n",
    "1. Instead of using the **[nameslist.txt](https://github.com/milaan9/92_Python_Assignments/blob/main/nameslist.txt)** file from above (or instead of, if you want the challenge), take this **[SUN_Database.txt](https://github.com/milaan9/92_Python_Assignments/blob/main/SUN_Database.txt)** file, and count how many of each “category” of each image there are. This text file is actually a list of files corresponding to the SUN database scene recognition database, and lists the file directory hierarchy for the images. Once you take a look at the first line or two of the file, it will be clear which part represents the scene category.\n",
    "\n",
    "Expected Output:\n",
    "```\n",
    "abbey: 50\n",
    "airplane_cabin: 50\n",
    "airport_terminal: 50\n",
    "alley: 50\n",
    "amphitheater: 50\n",
    "...\n",
    "...\n",
    "...\n",
    "wrestling_ring: 50\n",
    "yard: 50\n",
    "youth_hostel: 50\n",
    "```"
   ]
  },
  {
   "cell_type": "code",
   "execution_count": 19,
   "metadata": {},
   "outputs": [
    {
     "data": {
      "text/plain": [
       "{'Darth': 31, 'Luke': 15, 'Leia': 54}"
      ]
     },
     "execution_count": 19,
     "metadata": {},
     "output_type": "execute_result"
    }
   ],
   "source": [
    "# Solution 18: \n",
    "data18=open('nameslist.txt','r')\n",
    "dict18={}\n",
    "for line in data18.readlines():\n",
    "    line=line.strip('\\n')\n",
    "    if line not in dict18.keys():\n",
    "        dict18[line]=1\n",
    "    else:\n",
    "        dict18[line]+=1\n",
    "dict18\n"
   ]
  },
  {
   "cell_type": "markdown",
   "metadata": {},
   "source": [
    "### Question 19: \n",
    "\n",
    "Write a python program where two .txt files are given that have lists of numbers in them, find the numbers that are overlapping. One '**[primenumbers1_1000.txt](https://github.com/milaan9/92_Python_Assignments/blob/main/primenumbers1_1000.txt)**' file has a list of all prime numbers under 1000, and the other '**[happynumbers1_1000.txt](https://github.com/milaan9/92_Python_Assignments/blob/main/happynumbers1_1000.txt)**' file has a list of **[happy numbers](https://en.wikipedia.org/wiki/Happy_number)** up to 1000.\n",
    "\n",
    "Expected Output:\n",
    "```\n",
    "The list of overlapping numbers:\n",
    " [7, 13, 19, 23, 31, 79, 97, 103, 109, 139, 167, 193, 239, 263, 293, 313, 331, 367, 379, 383, 397, 409, 487, 563, 617, 653, 673, 683, 709, 739, 761, 863, 881, 907, 937]\n",
    "```\n",
    "\n",
    "For extra point:\n",
    "1. Generate solution with functions using list comprehensions"
   ]
  },
  {
   "cell_type": "code",
   "execution_count": 20,
   "metadata": {},
   "outputs": [
    {
     "name": "stdout",
     "output_type": "stream",
     "text": [
      "The list of overlapping numbers:\n",
      "[7, 13, 19, 23, 31, 79, 97, 103, 109, 139, 167, 193, 239, 263, 293, 313, 331, 367, 379, 383, 397, 409, 487, 563, 617, 653, 673, 683, 709, 739, 761, 863, 881, 907, 937]\n"
     ]
    }
   ],
   "source": [
    "# Solution 19: \n",
    "data1=open('happynumbers1_1000.txt','r')\n",
    "data2=open('primenumbers1_1000.txt','r')\n",
    "list191=[]\n",
    "list192=[]\n",
    "list193=[]\n",
    "for line in data1.readlines():\n",
    "    line=line.strip('\\n')\n",
    "    line=int(line)\n",
    "    list191.append(line)\n",
    "for line in data2.readlines():\n",
    "    line=line.strip('\\n')\n",
    "    line=int(line)\n",
    "    list192.append(line)\n",
    "for i in range(len(list191)):\n",
    "    for j in range(len(list192)):\n",
    "        if list191[i]==list192[j]:\n",
    "            list193.append(list191[i])\n",
    "print('The list of overlapping numbers:')\n",
    "print(list193)"
   ]
  },
  {
   "cell_type": "markdown",
   "metadata": {},
   "source": [
    "### Question 20: \n",
    "\n",
    "Create a function that takes a string as an argument and returns the Morse code equivalent.\n",
    "\n",
    "For example:\n",
    "```\n",
    "encode_morse(\"HELP ME !\") ➞ \".... . .-.. .--.   -- .   -.-.--\"\n",
    "```\n",
    "\n",
    "Expected Output:\n",
    "```\n",
    "Enter a sentence: I love\n",
    "..   .-.. --- ...- .\n",
    "Enter morse code: .--. -.-- - .... --- -.\n",
    "PYTHON\n",
    "```\n",
    "\n",
    "This dictionary can be used for coding:\n",
    "```\n",
    "char_to_dots = {\n",
    "    'A': '.-',   'B': '-...', 'C': '-.-.', 'D': '-..',  'E': '.',    'F': '..-.',\n",
    "    'G': '--.',  'H': '....', 'I': '..',   'J': '.---', 'K': '-.-',  'L': '.-..',\n",
    "    'M': '--',   'N': '-.',   'O': '---',  'P': '.--.', 'Q': '--.-', 'R': '.-.',\n",
    "    'S': '...',  'T': '-',    'U': '..-',  'V': '...-', 'W': '.--',  'X': '-..-',\n",
    "    'Y': '-.--', 'Z': '--..',  \n",
    "        \n",
    "    '0': '-----', '1': '.----', '2': '..---', '3': '...--', '4': '....-', \n",
    "    '5': '.....', '6': '-....', '7': '--...', '8': '---..', '9': '----.',\n",
    "        \n",
    "    ' ': ' ',      '&': '.-...',  \"'\": '.----.', '@': '.--.-.', ')': '-.--.-', \n",
    "    '(': '-.--.',  ':': '---...', ',': '--..--', '=': '-...-',  '!': '-.-.--', \n",
    "    '.': '.-.-.-', '-': '-....-', '+': '.-.-.', '\"': '.-..-.',  '?': '..--..', \n",
    "    '/': '-..-.'\n",
    "}\n",
    "```"
   ]
  },
  {
   "cell_type": "code",
   "execution_count": 21,
   "metadata": {},
   "outputs": [
    {
     "name": "stdout",
     "output_type": "stream",
     "text": [
      "Enter a sentence: I Love\n",
      "..   .-.. --- ...- .\n",
      "Enter morse code: .--. -.-- - .... --- -.\n",
      "PYTHON"
     ]
    }
   ],
   "source": [
    "# Solution 20: \n",
    "char_to_dots = {\n",
    "    'A': '.-',   'B': '-...', 'C': '-.-.', 'D': '-..',  'E': '.',    'F': '..-.',\n",
    "    'G': '--.',  'H': '....', 'I': '..',   'J': '.---', 'K': '-.-',  'L': '.-..',\n",
    "    'M': '--',   'N': '-.',   'O': '---',  'P': '.--.', 'Q': '--.-', 'R': '.-.',\n",
    "    'S': '...',  'T': '-',    'U': '..-',  'V': '...-', 'W': '.--',  'X': '-..-',\n",
    "    'Y': '-.--', 'Z': '--..',  \n",
    "\n",
    "    '0': '-----', '1': '.----', '2': '..---', '3': '...--', '4': '....-', \n",
    "    '5': '.....', '6': '-....', '7': '--...', '8': '---..', '9': '----.',\n",
    "\n",
    "    ' ': ' ',      '&': '.-...',  \"'\": '.----.', '@': '.--.-.', ')': '-.--.-', \n",
    "    '(': '-.--.',  ':': '---...', ',': '--..--', '=': '-...-',  '!': '-.-.--', \n",
    "    '.': '.-.-.-', '-': '-....-', '+': '.-.-.', '\"': '.-..-.',  '?': '..--..', \n",
    "    '/': '-..-.'\n",
    "}\n",
    "dots_to_char=dict([(i,j) for (j,i) in char_to_dots.items()])\n",
    "def encode_morse(str):\n",
    "    str=str.upper()\n",
    "    morse=''\n",
    "    for i in str:\n",
    "        morse+=char_to_dots[i]\n",
    "        if(i!=str[-1]):\n",
    "            morse+=' '\n",
    "    print(morse)\n",
    "def decode(str1):\n",
    "    asd=str1.split(' ')\n",
    "    for i in asd:\n",
    "        print(dots_to_char[i],end='')\n",
    "sent20=input('Enter a sentence: ')\n",
    "encode_morse(sent20)\n",
    "sent21=input('Enter morse code: ')\n",
    "decode(sent21)\n"
   ]
  },
  {
   "cell_type": "code",
   "execution_count": null,
   "metadata": {},
   "outputs": [],
   "source": []
  }
 ],
 "metadata": {
  "hide_input": false,
  "kernelspec": {
   "display_name": "Python 3",
   "language": "python",
   "name": "python3"
  },
  "language_info": {
   "codemirror_mode": {
    "name": "ipython",
    "version": 3
   },
   "file_extension": ".py",
   "mimetype": "text/x-python",
   "name": "python",
   "nbconvert_exporter": "python",
   "pygments_lexer": "ipython3",
   "version": "3.7.0"
  },
  "toc": {
   "base_numbering": 1,
   "nav_menu": {},
   "number_sections": true,
   "sideBar": true,
   "skip_h1_title": false,
   "title_cell": "Table of Contents",
   "title_sidebar": "Contents",
   "toc_cell": false,
   "toc_position": {},
   "toc_section_display": true,
   "toc_window_display": false
  },
  "varInspector": {
   "cols": {
    "lenName": 16,
    "lenType": 16,
    "lenVar": 40
   },
   "kernels_config": {
    "python": {
     "delete_cmd_postfix": "",
     "delete_cmd_prefix": "del ",
     "library": "var_list.py",
     "varRefreshCmd": "print(var_dic_list())"
    },
    "r": {
     "delete_cmd_postfix": ") ",
     "delete_cmd_prefix": "rm(",
     "library": "var_list.r",
     "varRefreshCmd": "cat(var_dic_list()) "
    }
   },
   "types_to_exclude": [
    "module",
    "function",
    "builtin_function_or_method",
    "instance",
    "_Feature"
   ],
   "window_display": false
  }
 },
 "nbformat": 4,
 "nbformat_minor": 2
}
